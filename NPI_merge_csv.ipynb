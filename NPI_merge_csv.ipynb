{
 "cells": [
  {
   "cell_type": "code",
   "execution_count": 1,
   "metadata": {},
   "outputs": [],
   "source": [
    "import pandas as pd\n",
    "import glob\n",
    "\n",
    "filenames = glob.glob(r'E:\\ABD-work\\my_parts\\*.csv')          # You need to specify the location where the csv files are located in part.\n",
    "                                                              \n",
    "\n",
    "dfs = pd.DataFrame()\n",
    "\n",
    "for filename in filenames:\n",
    "    df = pd.read_csv(filename , low_memory = False)\n",
    "    dfs = pd.concat([dfs,df] , ignore_index=True)\n",
    "\n",
    "\n",
    "dfs.to_csv('E:\\ABD-work\\my_parts\\merged_190.csv' , sep = '^' ,index = False)   # We specify where and with what name the most recently created merged csv file will be saved"
   ]
  },
  {
   "cell_type": "code",
   "execution_count": null,
   "metadata": {},
   "outputs": [],
   "source": [
    "# Done"
   ]
  }
 ],
 "metadata": {
  "kernelspec": {
   "display_name": "Python 3",
   "language": "python",
   "name": "python3"
  },
  "language_info": {
   "codemirror_mode": {
    "name": "ipython",
    "version": 3
   },
   "file_extension": ".py",
   "mimetype": "text/x-python",
   "name": "python",
   "nbconvert_exporter": "python",
   "pygments_lexer": "ipython3",
   "version": "3.10.9"
  },
  "orig_nbformat": 4,
  "vscode": {
   "interpreter": {
    "hash": "aa38ca2d4ac5334f8facb9127846041594939b57ea42b4afe5d7eb655aac64f1"
   }
  }
 },
 "nbformat": 4,
 "nbformat_minor": 2
}
