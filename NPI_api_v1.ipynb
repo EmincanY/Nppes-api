{
  "cells": [
    {
      "cell_type": "code",
      "execution_count": 1,
      "metadata": {
        "id": "b4GLcPRitHUU"
      },
      "outputs": [],
      "source": [
        "import numpy as np\n",
        "import pandas as pd\n",
        "\n",
        "import matplotlib.pyplot as plt\n",
        "import seaborn as sns"
      ]
    },
    {
      "cell_type": "code",
      "execution_count": 2,
      "metadata": {
        "colab": {
          "base_uri": "https://localhost:8080/"
        },
        "id": "By0zrrE8tRgm",
        "outputId": "e61622f0-f054-408c-83ab-0385f6812172"
      },
      "outputs": [],
      "source": [
        "# !pip install npyi"
      ]
    },
    {
      "cell_type": "code",
      "execution_count": 3,
      "metadata": {
        "id": "c4HL4EmxtUx1"
      },
      "outputs": [],
      "source": [
        "from npyi import npi"
      ]
    },
    {
      "cell_type": "code",
      "execution_count": 4,
      "metadata": {
        "id": "QWpZm8NptVAA"
      },
      "outputs": [],
      "source": [
        "def dataFrameCreator(npI):\n",
        "    response = npi.search(search_params={'number' : npI})\n",
        "    result = response['results'][0]\n",
        "    if response['result_count'] == 1 :\n",
        "      result = response['results'][0]\n",
        "      final_df = pd.DataFrame()\n",
        "      for key in result.keys():\n",
        "        if (type(result[key]) == list) :\n",
        "          for i in range(len(result[key])):\n",
        "            df2 = pd.DataFrame()\n",
        "            dfs = pd.DataFrame.from_dict(result[key][i] , orient = 'index').T\n",
        "            df2 = pd.concat([df2,dfs], axis = 1)\n",
        "            df2 = df2.add_prefix(str(key)+'_')\n",
        "            final_df = pd.concat([final_df , df2] , axis = 1)\n",
        "        elif type(result[key]) == dict :\n",
        "          df3 = pd.DataFrame.from_dict(result[key] , orient = 'index').T\n",
        "          df3 = df3.add_prefix(str(key)+'_')\n",
        "          final_df = pd.concat([final_df , df3] , axis = 1)\n",
        "        elif type(result[key]) == str :\n",
        "          df4 = pd.DataFrame()\n",
        "          dfss = pd.DataFrame.from_dict(data = {key : result[key]} , orient = 'index').T\n",
        "          df4 = pd.concat([df4,dfss] , axis = 1)\n",
        "          final_df = pd.concat([final_df , df4] , axis = 1)\n",
        "      return final_df\n",
        "    else : \n",
        "      pass"
      ]
    },
    {
      "cell_type": "code",
      "execution_count": 5,
      "metadata": {},
      "outputs": [],
      "source": [
        "data_full = pd.read_csv(r\"npi_7b.csv\", usecols = ['NPI'] ) # Just change the csv name.\n",
        "data_splitted = np.array_split(data_full , 100) # You can choose how many parts you want to divide our data into. There will be as many .csv files as you divide."
      ]
    },
    {
      "cell_type": "code",
      "execution_count": 11,
      "metadata": {
        "id": "KrFFCDOMuqU-"
      },
      "outputs": [],
      "source": [
        "for i in range(len(data_splitted)):\n",
        "  data = np.array(data_splitted[i])\n",
        "\n",
        "  npi_list = data\n",
        "  my_df = pd.DataFrame()\n",
        "\n",
        "  for npI in npi_list : \n",
        "   try : \n",
        "      df = dataFrameCreator(npI)\n",
        "      identifier = df.columns.to_series().groupby(level=0).transform('cumcount')\n",
        "      df.columns = df.columns.astype('string') + identifier.astype('string')\n",
        "      \n",
        "      my_df = pd.concat([my_df , df] , axis = 0 , ignore_index = True)\n",
        "   except : \n",
        "      pass\n",
        "\n",
        "  my_df.to_csv(f'E:\\ABD-work\\my_parts\\my_parts{i}.csv' ) # You can change where to save as .csv."
      ]
    },
    {
      "cell_type": "code",
      "execution_count": null,
      "metadata": {},
      "outputs": [],
      "source": [
        "# Done"
      ]
    }
  ],
  "metadata": {
    "colab": {
      "provenance": []
    },
    "kernelspec": {
      "display_name": "Python 3",
      "language": "python",
      "name": "python3"
    },
    "language_info": {
      "codemirror_mode": {
        "name": "ipython",
        "version": 3
      },
      "file_extension": ".py",
      "mimetype": "text/x-python",
      "name": "python",
      "nbconvert_exporter": "python",
      "pygments_lexer": "ipython3",
      "version": "3.10.9 (tags/v3.10.9:1dd9be6, Dec  6 2022, 20:01:21) [MSC v.1934 64 bit (AMD64)]"
    },
    "vscode": {
      "interpreter": {
        "hash": "aa38ca2d4ac5334f8facb9127846041594939b57ea42b4afe5d7eb655aac64f1"
      }
    }
  },
  "nbformat": 4,
  "nbformat_minor": 0
}
